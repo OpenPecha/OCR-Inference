{
 "cells": [
  {
   "cell_type": "code",
   "execution_count": 1,
   "metadata": {},
   "outputs": [
    {
     "name": "stderr",
     "output_type": "stream",
     "text": [
      "2023-09-21 12:59:19.608287: I tensorflow/tsl/cuda/cudart_stub.cc:28] Could not find cuda drivers on your machine, GPU will not be used.\n",
      "2023-09-21 12:59:19.779533: I tensorflow/tsl/cuda/cudart_stub.cc:28] Could not find cuda drivers on your machine, GPU will not be used.\n",
      "2023-09-21 12:59:19.781417: I tensorflow/core/platform/cpu_feature_guard.cc:182] This TensorFlow binary is optimized to use available CPU instructions in performance-critical operations.\n",
      "To enable the following instructions: AVX2 FMA, in other operations, rebuild TensorFlow with the appropriate compiler flags.\n",
      "2023-09-21 12:59:20.682383: W tensorflow/compiler/tf2tensorrt/utils/py_utils.cc:38] TF-TRT Warning: Could not find TensorRT\n"
     ]
    }
   ],
   "source": [
    "import os\n",
    "import cv2\n",
    "import numpy as np\n",
    "import matplotlib.pyplot as plt\n",
    "\n",
    "from glob import glob\n",
    "from tqdm import tqdm\n",
    "from PIL import Image\n",
    "\n",
    "from Modules import LineDetection, OCRInference\n",
    "from Utils import create_dir, get_file_name"
   ]
  },
  {
   "cell_type": "code",
   "execution_count": 2,
   "metadata": {},
   "outputs": [],
   "source": [
    "def show_image(image: np.array):\n",
    "    display(Image.fromarray(image))"
   ]
  },
  {
   "cell_type": "code",
   "execution_count": 3,
   "metadata": {},
   "outputs": [],
   "source": [
    "line_model_config = \"Models/LineModels/line_model_config.json\"\n",
    "ocr_model_config = \"Models/OCRModels/LhasaKanjur/model_config.json\"\n",
    "line_inference = LineDetection(config_file=line_model_config, dilate_kernel=100, dilate_iterations=100, binarize_output=False)\n",
    "ocr_inference = OCRInference(config_file=ocr_model_config)"
   ]
  },
  {
   "cell_type": "code",
   "execution_count": 4,
   "metadata": {},
   "outputs": [],
   "source": [
    "def run_ocr(image_path: str, out_path: str, save_preview: bool = False):\n",
    "    image_name = get_file_name(image_path)\n",
    "    image = cv2.imread(image_path)\n",
    "    prediction, line_images, sorted_contours, peaks = line_inference.predict(image, 0)\n",
    "    predicted_text, raw_prediction = ocr_inference.run(line_images)\n",
    "    \n",
    "    out_text = f\"{out_path}/{image_name}.txt\"\n",
    "\n",
    "    with open(out_text, \"w\", encoding=\"utf-8\") as f:\n",
    "        for line in predicted_text:\n",
    "            f.write(f\"{line}\\n\")\n",
    "\n",
    "    if save_preview:\n",
    "        prediction = cv2.cvtColor(prediction, cv2.COLOR_GRAY2BGR)\n",
    "        cv2.addWeighted(prediction, 0.4, image, 1-0.4, 0, image)\n",
    "        out_prediction = f\"{out_path}/{image_name}_prediction.jpg\"\n",
    "        cv2.imwrite(out_prediction, image)"
   ]
  },
  {
   "cell_type": "markdown",
   "metadata": {},
   "source": [
    "#### Run OCR on Testset 1"
   ]
  },
  {
   "cell_type": "code",
   "execution_count": 11,
   "metadata": {},
   "outputs": [
    {
     "name": "stdout",
     "output_type": "stream",
     "text": [
      "Image: 7\n"
     ]
    }
   ],
   "source": [
    "image_path = \"Data/W30125\"\n",
    "images = glob(f\"{image_path}/*.jpg\")\n",
    "print(f\"Image: {len(images)}\")\n",
    "\n",
    "out_path = os.path.join(image_path, \"predictions\")\n",
    "create_dir(out_path)"
   ]
  },
  {
   "cell_type": "code",
   "execution_count": 12,
   "metadata": {},
   "outputs": [
    {
     "name": "stderr",
     "output_type": "stream",
     "text": [
      "  0%|          | 0/7 [00:00<?, ?it/s]2023-09-21 13:03:07.267649: E tensorflow/compiler/xla/stream_executor/cuda/cuda_driver.cc:268] failed call to cuInit: CUDA_ERROR_NO_DEVICE: no CUDA-capable device is detected\n",
      "100%|██████████| 7/7 [00:30<00:00,  4.38s/it]\n"
     ]
    }
   ],
   "source": [
    "#run patched prediction\n",
    "for _, image_path in tqdm(enumerate(images), total=len(images)):\n",
    "    run_ocr(image_path, out_path, save_preview=True)"
   ]
  },
  {
   "cell_type": "markdown",
   "metadata": {},
   "source": [
    "#### Run OCR on Testset 2"
   ]
  },
  {
   "cell_type": "code",
   "execution_count": 23,
   "metadata": {},
   "outputs": [],
   "source": [
    "line_inference = LineDetection(config_file=line_model_config, dilate_kernel=10, dilate_iterations=10, binarize_output=False)"
   ]
  },
  {
   "cell_type": "code",
   "execution_count": 24,
   "metadata": {},
   "outputs": [
    {
     "name": "stdout",
     "output_type": "stream",
     "text": [
      "Image: 6\n"
     ]
    }
   ],
   "source": [
    "image_path = \"Data\\W2DB4577\"\n",
    "images = glob(f\"{image_path}/*.jpg\")\n",
    "print(f\"Image: {len(images)}\")\n",
    "\n",
    "out_path = os.path.join(image_path, \"predictions\")\n",
    "create_dir(out_path)"
   ]
  },
  {
   "cell_type": "code",
   "execution_count": 25,
   "metadata": {},
   "outputs": [
    {
     "name": "stderr",
     "output_type": "stream",
     "text": [
      "100%|██████████| 6/6 [00:56<00:00,  9.46s/it]\n"
     ]
    }
   ],
   "source": [
    "for _, image_path in tqdm(enumerate(images), total=len(images)):\n",
    "    run_ocr(image_path, out_path, save_preview=True)"
   ]
  },
  {
   "cell_type": "markdown",
   "metadata": {},
   "source": [
    "#### Run OCR on Testset 3"
   ]
  },
  {
   "cell_type": "code",
   "execution_count": 8,
   "metadata": {},
   "outputs": [
    {
     "name": "stdout",
     "output_type": "stream",
     "text": [
      "Image: 6\n"
     ]
    }
   ],
   "source": [
    "line_inference = LineDetection(config_file=line_model_config, dilate_kernel=10, dilate_iterations=10, binarize_output=False)\n",
    "\n",
    "image_path = \"Data\\W26071-v56\"\n",
    "images = glob(f\"{image_path}/*.jpg\")\n",
    "print(f\"Image: {len(images)}\")\n",
    "\n",
    "out_path = os.path.join(image_path, \"predictions\")\n",
    "create_dir(out_path)"
   ]
  }
 ],
 "metadata": {
  "kernelspec": {
   "display_name": "venv",
   "language": "python",
   "name": "python3"
  },
  "language_info": {
   "codemirror_mode": {
    "name": "ipython",
    "version": 3
   },
   "file_extension": ".py",
   "mimetype": "text/x-python",
   "name": "python",
   "nbconvert_exporter": "python",
   "pygments_lexer": "ipython3",
   "version": "3.10.12"
  },
  "orig_nbformat": 4
 },
 "nbformat": 4,
 "nbformat_minor": 2
}
