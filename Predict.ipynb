{
 "cells": [
  {
   "cell_type": "code",
   "execution_count": 1,
   "metadata": {},
   "outputs": [],
   "source": [
    "import os\n",
    "import json\n",
    "import cv2\n",
    "import numpy as np\n",
    "import logging\n",
    "import onnxruntime as ort\n",
    "import matplotlib.pyplot as plt\n",
    "\n",
    "from glob import glob\n",
    "from tqdm import tqdm\n",
    "from typing import List\n",
    "from scipy.special import expit\n",
    "from Modules import LineDetection\n",
    "from Utils import create_dir, get_file_name, patch_image, unpatch_image, resize_image"
   ]
  },
  {
   "cell_type": "code",
   "execution_count": 3,
   "metadata": {},
   "outputs": [],
   "source": [
    "line_model_config = \"Models/LineModels/line_model_config.json\"\n",
    "ocr_model_config = \"Models/OCRModels/LhasaKanjur/model_config.json\"\n",
    "line_inference = LineDetection(line_model_config)"
   ]
  },
  {
   "cell_type": "code",
   "execution_count": 4,
   "metadata": {},
   "outputs": [
    {
     "name": "stdout",
     "output_type": "stream",
     "text": [
      "Image: 7\n"
     ]
    }
   ],
   "source": [
    "image_path = \"Data\\W30125\"\n",
    "images = glob(f\"{image_path}/*.jpg\")\n",
    "print(f\"Image: {len(images)}\")\n",
    "\n",
    "out_path = os.path.join(image_path, \"predictions\")\n",
    "create_dir(out_path)"
   ]
  },
  {
   "cell_type": "code",
   "execution_count": 5,
   "metadata": {},
   "outputs": [
    {
     "name": "stderr",
     "output_type": "stream",
     "text": [
      "  0%|          | 0/7 [00:00<?, ?it/s]"
     ]
    },
    {
     "name": "stderr",
     "output_type": "stream",
     "text": [
      "100%|██████████| 7/7 [00:47<00:00,  6.77s/it]\n"
     ]
    }
   ],
   "source": [
    "for _, image_path in tqdm(enumerate(images), total=len(images)):\n",
    "    image_name = get_file_name(image_path)\n",
    "    image = cv2.imread(image_path)\n",
    "    prediction = line_inference.predict(image)\n",
    "\n",
    "    cv2.addWeighted(prediction, 0.4, image, 1-0.4, 0, image)\n",
    "    out_prediction = f\"{out_path}/{image_name}_prediction.jpg\"\n",
    "    cv2.imwrite(out_prediction, image)"
   ]
  }
 ],
 "metadata": {
  "kernelspec": {
   "display_name": "venv",
   "language": "python",
   "name": "python3"
  },
  "language_info": {
   "codemirror_mode": {
    "name": "ipython",
    "version": 3
   },
   "file_extension": ".py",
   "mimetype": "text/x-python",
   "name": "python",
   "nbconvert_exporter": "python",
   "pygments_lexer": "ipython3",
   "version": "3.10.11"
  },
  "orig_nbformat": 4
 },
 "nbformat": 4,
 "nbformat_minor": 2
}
